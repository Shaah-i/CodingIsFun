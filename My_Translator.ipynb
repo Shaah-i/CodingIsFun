{
 "cells": [
  {
   "cell_type": "code",
   "execution_count": 2,
   "id": "092dee5d",
   "metadata": {},
   "outputs": [
    {
     "name": "stdout",
     "output_type": "stream",
     "text": [
      "Collecting translate\n",
      "  Downloading translate-3.6.1-py2.py3-none-any.whl (12 kB)\n",
      "Requirement already satisfied: click in c:\\users\\happysoul\\appdata\\local\\programs\\python\\python310\\lib\\site-packages (from translate) (8.0.4)\n",
      "Collecting libretranslatepy==2.1.1\n",
      "  Downloading libretranslatepy-2.1.1-py3-none-any.whl (3.2 kB)\n",
      "Requirement already satisfied: requests in c:\\users\\happysoul\\appdata\\local\\programs\\python\\python310\\lib\\site-packages (from translate) (2.27.1)\n",
      "Requirement already satisfied: lxml in c:\\users\\happysoul\\appdata\\local\\programs\\python\\python310\\lib\\site-packages (from translate) (4.9.2)\n",
      "Requirement already satisfied: colorama in c:\\users\\happysoul\\appdata\\local\\programs\\python\\python310\\lib\\site-packages (from click->translate) (0.4.4)\n",
      "Requirement already satisfied: idna<4,>=2.5 in c:\\users\\happysoul\\appdata\\local\\programs\\python\\python310\\lib\\site-packages (from requests->translate) (3.3)\n",
      "Requirement already satisfied: charset-normalizer~=2.0.0 in c:\\users\\happysoul\\appdata\\local\\programs\\python\\python310\\lib\\site-packages (from requests->translate) (2.0.12)\n",
      "Requirement already satisfied: urllib3<1.27,>=1.21.1 in c:\\users\\happysoul\\appdata\\local\\programs\\python\\python310\\lib\\site-packages (from requests->translate) (1.26.8)\n",
      "Requirement already satisfied: certifi>=2017.4.17 in c:\\users\\happysoul\\appdata\\local\\programs\\python\\python310\\lib\\site-packages (from requests->translate) (2021.10.8)\n",
      "Installing collected packages: libretranslatepy, translate\n",
      "Successfully installed libretranslatepy-2.1.1 translate-3.6.1\n"
     ]
    },
    {
     "name": "stderr",
     "output_type": "stream",
     "text": [
      "\n",
      "[notice] A new release of pip available: 22.3 -> 22.3.1\n",
      "[notice] To update, run: python.exe -m pip install --upgrade pip\n"
     ]
    }
   ],
   "source": [
    "# !pip install translate"
   ]
  },
  {
   "cell_type": "code",
   "execution_count": 3,
   "id": "4762c36c",
   "metadata": {},
   "outputs": [],
   "source": [
    "from translate import Translator"
   ]
  },
  {
   "cell_type": "code",
   "execution_count": 7,
   "id": "20b1cf36",
   "metadata": {},
   "outputs": [],
   "source": [
    "text = \"Hi! How are you?\"\n",
    "# translator = Translator(from_lang=\"English\", to_lang=\"Hindi\")\n",
    "translator = Translator(from_lang=\"English\", to_lang=\"Japanese\")"
   ]
  },
  {
   "cell_type": "code",
   "execution_count": 8,
   "id": "830bcc2e",
   "metadata": {},
   "outputs": [
    {
     "name": "stdout",
     "output_type": "stream",
     "text": [
      "Output :  やあ！元気？\n"
     ]
    }
   ],
   "source": [
    "translation = translator.translate(text)\n",
    "print(\"Output : \", translation)"
   ]
  },
  {
   "cell_type": "code",
   "execution_count": null,
   "id": "185fc862",
   "metadata": {},
   "outputs": [],
   "source": []
  },
  {
   "cell_type": "code",
   "execution_count": null,
   "id": "f3192f77",
   "metadata": {},
   "outputs": [],
   "source": []
  },
  {
   "cell_type": "code",
   "execution_count": 15,
   "id": "2db65e4e",
   "metadata": {},
   "outputs": [
    {
     "name": "stdout",
     "output_type": "stream",
     "text": [
      "Collecting googletrans==3.1.0a0\n",
      "  Downloading googletrans-3.1.0a0.tar.gz (19 kB)\n",
      "  Preparing metadata (setup.py): started\n",
      "  Preparing metadata (setup.py): finished with status 'done'\n",
      "Requirement already satisfied: httpx==0.13.3 in c:\\users\\happysoul\\appdata\\local\\programs\\python\\python310\\lib\\site-packages (from googletrans==3.1.0a0) (0.13.3)\n",
      "Requirement already satisfied: sniffio in c:\\users\\happysoul\\appdata\\local\\programs\\python\\python310\\lib\\site-packages (from httpx==0.13.3->googletrans==3.1.0a0) (1.2.0)\n",
      "Requirement already satisfied: idna==2.* in c:\\users\\happysoul\\appdata\\local\\programs\\python\\python310\\lib\\site-packages (from httpx==0.13.3->googletrans==3.1.0a0) (2.10)\n",
      "Requirement already satisfied: hstspreload in c:\\users\\happysoul\\appdata\\local\\programs\\python\\python310\\lib\\site-packages (from httpx==0.13.3->googletrans==3.1.0a0) (2023.1.1)\n",
      "Requirement already satisfied: rfc3986<2,>=1.3 in c:\\users\\happysoul\\appdata\\local\\programs\\python\\python310\\lib\\site-packages (from httpx==0.13.3->googletrans==3.1.0a0) (1.5.0)\n",
      "Requirement already satisfied: certifi in c:\\users\\happysoul\\appdata\\local\\programs\\python\\python310\\lib\\site-packages (from httpx==0.13.3->googletrans==3.1.0a0) (2021.10.8)\n",
      "Requirement already satisfied: chardet==3.* in c:\\users\\happysoul\\appdata\\local\\programs\\python\\python310\\lib\\site-packages (from httpx==0.13.3->googletrans==3.1.0a0) (3.0.4)\n",
      "Requirement already satisfied: httpcore==0.9.* in c:\\users\\happysoul\\appdata\\local\\programs\\python\\python310\\lib\\site-packages (from httpx==0.13.3->googletrans==3.1.0a0) (0.9.1)\n",
      "Requirement already satisfied: h11<0.10,>=0.8 in c:\\users\\happysoul\\appdata\\local\\programs\\python\\python310\\lib\\site-packages (from httpcore==0.9.*->httpx==0.13.3->googletrans==3.1.0a0) (0.9.0)\n",
      "Requirement already satisfied: h2==3.* in c:\\users\\happysoul\\appdata\\local\\programs\\python\\python310\\lib\\site-packages (from httpcore==0.9.*->httpx==0.13.3->googletrans==3.1.0a0) (3.2.0)\n",
      "Requirement already satisfied: hyperframe<6,>=5.2.0 in c:\\users\\happysoul\\appdata\\local\\programs\\python\\python310\\lib\\site-packages (from h2==3.*->httpcore==0.9.*->httpx==0.13.3->googletrans==3.1.0a0) (5.2.0)\n",
      "Requirement already satisfied: hpack<4,>=3.0 in c:\\users\\happysoul\\appdata\\local\\programs\\python\\python310\\lib\\site-packages (from h2==3.*->httpcore==0.9.*->httpx==0.13.3->googletrans==3.1.0a0) (3.0.0)\n",
      "Installing collected packages: googletrans\n",
      "  Attempting uninstall: googletrans\n",
      "    Found existing installation: googletrans 3.0.0\n",
      "    Uninstalling googletrans-3.0.0:\n",
      "      Successfully uninstalled googletrans-3.0.0\n",
      "  Running setup.py install for googletrans: started\n",
      "  Running setup.py install for googletrans: finished with status 'done'\n",
      "Successfully installed googletrans-3.1.0a0\n"
     ]
    },
    {
     "name": "stderr",
     "output_type": "stream",
     "text": [
      "  DEPRECATION: googletrans is being installed using the legacy 'setup.py install' method, because it does not have a 'pyproject.toml' and the 'wheel' package is not installed. pip 23.1 will enforce this behaviour change. A possible replacement is to enable the '--use-pep517' option. Discussion can be found at https://github.com/pypa/pip/issues/8559\n",
      "\n",
      "[notice] A new release of pip available: 22.3 -> 22.3.1\n",
      "[notice] To update, run: python.exe -m pip install --upgrade pip\n"
     ]
    }
   ],
   "source": [
    "# !pip install googletrans==3.1.0a0"
   ]
  },
  {
   "cell_type": "code",
   "execution_count": 1,
   "id": "bc4bf1d3",
   "metadata": {},
   "outputs": [],
   "source": [
    "from googletrans import Translator"
   ]
  },
  {
   "cell_type": "code",
   "execution_count": 2,
   "id": "48fcf8cc",
   "metadata": {},
   "outputs": [],
   "source": [
    "translator = Translator()"
   ]
  },
  {
   "cell_type": "code",
   "execution_count": 5,
   "id": "f1b35888",
   "metadata": {},
   "outputs": [
    {
     "name": "stdout",
     "output_type": "stream",
     "text": [
      "Translated(src=ja, dest=en, text=Hi!energy?, pronunciation=None, extra_data=\"{'confiden...\")\n"
     ]
    }
   ],
   "source": [
    "out  = translator.translate(\"やあ！元気？\", dest=\"en\")\n",
    "print(out)"
   ]
  },
  {
   "cell_type": "code",
   "execution_count": 4,
   "id": "28e3ba26",
   "metadata": {},
   "outputs": [
    {
     "name": "stdout",
     "output_type": "stream",
     "text": [
      "Translated(src=hi, dest=ja, text=ご挨拶！元気ですか？, pronunciation=Go aisatsu! Genkidesu ka?, extra_data=\"{'confiden...\")\n"
     ]
    }
   ],
   "source": [
    "out  = translator.translate(\"नमस्ते! तुम कैसे हो?\", dest=\"ja\")\n",
    "print(out)"
   ]
  },
  {
   "cell_type": "code",
   "execution_count": 7,
   "id": "f1e86483",
   "metadata": {},
   "outputs": [
    {
     "name": "stdout",
     "output_type": "stream",
     "text": [
      "Translated(src=en, dest=ja, text=やあ！元気ですか？, pronunciation=Yā! Genkidesu ka?, extra_data=\"{'confiden...\")\n"
     ]
    }
   ],
   "source": [
    "out  = translator.translate(\"Hi! How are you?\", dest=\"ja\")\n",
    "print(out)"
   ]
  },
  {
   "cell_type": "code",
   "execution_count": 8,
   "id": "d91d7d20",
   "metadata": {},
   "outputs": [
    {
     "name": "stdout",
     "output_type": "stream",
     "text": [
      "Translated(src=en, dest=hi, text=हैलो!क्या हाल है?, pronunciation=hailo! kya haal hai?, extra_data=\"{'confiden...\")\n"
     ]
    }
   ],
   "source": [
    "out  = translator.translate(\"Hi! How are you?\", dest=\"hi\")\n",
    "print(out)"
   ]
  },
  {
   "cell_type": "code",
   "execution_count": null,
   "id": "6ea37552",
   "metadata": {},
   "outputs": [],
   "source": []
  }
 ],
 "metadata": {
  "kernelspec": {
   "display_name": "Python 3 (ipykernel)",
   "language": "python",
   "name": "python3"
  },
  "language_info": {
   "codemirror_mode": {
    "name": "ipython",
    "version": 3
   },
   "file_extension": ".py",
   "mimetype": "text/x-python",
   "name": "python",
   "nbconvert_exporter": "python",
   "pygments_lexer": "ipython3",
   "version": "3.10.2"
  }
 },
 "nbformat": 4,
 "nbformat_minor": 5
}
